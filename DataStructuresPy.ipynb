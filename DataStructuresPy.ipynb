{
  "nbformat": 4,
  "nbformat_minor": 0,
  "metadata": {
    "colab": {
      "name": "DataStructuresPy.ipynb",
      "provenance": [],
      "authorship_tag": "ABX9TyPhNB3OljSiHIxvkg461zku",
      "include_colab_link": true
    },
    "kernelspec": {
      "name": "python3",
      "display_name": "Python 3"
    },
    "language_info": {
      "name": "python"
    }
  },
  "cells": [
    {
      "cell_type": "markdown",
      "metadata": {
        "id": "view-in-github",
        "colab_type": "text"
      },
      "source": [
        "<a href=\"https://colab.research.google.com/github/Zechini/class-notes/blob/main/DataStructuresPy.ipynb\" target=\"_parent\"><img src=\"https://colab.research.google.com/assets/colab-badge.svg\" alt=\"Open In Colab\"/></a>"
      ]
    },
    {
      "cell_type": "markdown",
      "metadata": {
        "id": "0qZSrY9Spufp"
      },
      "source": [
        "# **PYTHON DATA STRUCTURES**"
      ]
    },
    {
      "cell_type": "markdown",
      "metadata": {
        "id": "WxMvoRRvlc1W"
      },
      "source": [
        "## **PYTHON LISTS**\n",
        "\n",
        "*   Ordered sequences.\n",
        "*   Comma sepparated between square brackets.\n",
        "*   Muttable\n",
        "\n",
        "\n",
        "\n",
        "\n",
        "\n",
        "\n",
        "\n",
        "\n"
      ]
    },
    {
      "cell_type": "code",
      "metadata": {
        "id": "8FQuYdnVEhnk"
      },
      "source": [
        "L = [1, True, 2, \"Daniela\", 9.8]\n",
        "L.extend(['ext1', False]) #the method extend adds one or more elements to the list.\n",
        "print(L)\n",
        "L.append(\"last one\") #the method append adds only one element.\n",
        "print(L)\n",
        "del(L[5:7])\n",
        "print(L)"
      ],
      "execution_count": null,
      "outputs": []
    },
    {
      "cell_type": "code",
      "metadata": {
        "id": "QHRdXa8RLoKE"
      },
      "source": [
        "#Aliasing\n",
        "A = [\"tomatoes\", 0.23, \"apple\"]\n",
        "B = A\n",
        "B[0] = \"eggs\"\n",
        "print(A)"
      ],
      "execution_count": null,
      "outputs": []
    },
    {
      "cell_type": "code",
      "metadata": {
        "id": "t86wde1OMiE3"
      },
      "source": [
        "#cloning\n",
        "A = [\"tomatoes\", 0.23, \"apple\"]\n",
        "B = A[:]\n",
        "B[0] = \"eggs\"\n",
        "print(\"A ==\", A)\n",
        "print(\"B ==\", B)"
      ],
      "execution_count": null,
      "outputs": []
    },
    {
      "cell_type": "markdown",
      "metadata": {
        "id": "0UL0lpW8zmHc"
      },
      "source": [
        "### **PYTHON TUPLES**\n",
        "\n",
        "*   Ordered sequences.\n",
        "*   Comma sepparated between parenthesis.\n",
        "*   Any type elements.\n",
        "*   Immutable.\n",
        "\n",
        "\n",
        "\n",
        "\n",
        "\n",
        "\n"
      ]
    },
    {
      "cell_type": "code",
      "metadata": {
        "id": "B56ALuLOsQmU"
      },
      "source": [
        "tuple01 = (\"Ângelo\", 10.46, True)\n",
        "tuple01[0]"
      ],
      "execution_count": null,
      "outputs": []
    },
    {
      "cell_type": "code",
      "metadata": {
        "id": "-Rhin6cJuHwJ"
      },
      "source": [
        "type(tuple01)"
      ],
      "execution_count": null,
      "outputs": []
    },
    {
      "cell_type": "code",
      "metadata": {
        "id": "uGOF_Ag4vUFM"
      },
      "source": [
        "tuple02 = tuple01 + (False, 23)\n",
        "print(tuple02)"
      ],
      "execution_count": null,
      "outputs": []
    },
    {
      "cell_type": "code",
      "metadata": {
        "id": "yIZvF7CWyvib"
      },
      "source": [
        "ratings = (2,10,4,6,5,7,9,1,8)\n",
        "ratings02 = sorted(ratings)\n",
        "print(ratings)\n",
        "print(ratings02)\n",
        "print(type(ratings))\n",
        "print(type(ratings02))"
      ],
      "execution_count": null,
      "outputs": []
    },
    {
      "cell_type": "markdown",
      "metadata": {
        "id": "9gnzEvNYz3SB"
      },
      "source": [
        "### **PYTHON SETS**\n",
        "\n",
        "*   Unordered sequences.\n",
        "*   Comma sepparated itens between curly brackets.\n",
        "*   Only one type elements.\n",
        "*   Eliminate duplications.\n",
        "*   Type-casting (lists to sets).\n",
        "\n",
        "\n",
        "\n"
      ]
    },
    {
      "cell_type": "code",
      "metadata": {
        "id": "tAUmsvoVk91d",
        "colab": {
          "base_uri": "https://localhost:8080/"
        },
        "outputId": "c39b3b0d-c272-4d86-8018-5560f4abc50f"
      },
      "source": [
        "set = {\"Elton John\", \"Eric Clapton\", \"The Beatles\", \"Chuck Berry\", \"Elton John\", \"The Beatles\"}\n",
        "print(set)\n",
        "set.add(\"Dire Straits\")\n",
        "print(set)\n",
        "set.remove(\"Elton John\")\n",
        "print(set)"
      ],
      "execution_count": 44,
      "outputs": [
        {
          "output_type": "stream",
          "text": [
            "{'Chuck Berry', 'The Beatles', 'Elton John', 'Eric Clapton'}\n",
            "{'Chuck Berry', 'Elton John', 'The Beatles', 'Dire Straits', 'Eric Clapton'}\n",
            "{'Chuck Berry', 'The Beatles', 'Dire Straits', 'Eric Clapton'}\n"
          ],
          "name": "stdout"
        }
      ]
    },
    {
      "cell_type": "code",
      "metadata": {
        "id": "p-o21UgiX6fs"
      },
      "source": [
        "setone = {\"AA\",\"BB\",\"CC\",\"DD\",\"intersection\"}\n",
        "settwo = {\"A1\",\"A2\",\"A3\",\"A4\",\"intersection\"}\n",
        "print(\"AA\" in setone) #search in a set\n",
        "print(\"AA\" in settwo)\n",
        "print(setone & settwo) #intersection of sets\n",
        "print(setone.issubset(settwo))"
      ],
      "execution_count": null,
      "outputs": []
    },
    {
      "cell_type": "markdown",
      "metadata": {
        "id": "UOzZ2Ug1eJZ3"
      },
      "source": [
        "**PYTHON DICTIONARIES**\n",
        "\n",
        "*   Colection of keys and values in pairs.\n",
        "*   Key and value sepparated by colon.\n",
        "*   Pairs sepparated by comma.\n",
        "*   Keys are unique and immutable.\n",
        "\n",
        "\n",
        "\n",
        "\n"
      ]
    },
    {
      "cell_type": "code",
      "metadata": {
        "colab": {
          "base_uri": "https://localhost:8080/"
        },
        "id": "zzH2psY2fBkB",
        "outputId": "d2e2710d-4514-4396-c4af-d7d94c6d4506"
      },
      "source": [
        "dic = {\"A\":0.1,\"B\":0.2,\"C\":0.3}\n",
        "print(dic[\"A\"]) #find the value of \"A\"\n",
        "dic[\"D\"]=0.4 #Add iten.\n",
        "print(dic)\n",
        "del(dic[\"B\"]) #Del iten.\n",
        "print(dic)\n",
        "print(dic.keys())\n",
        "print(dic.values())"
      ],
      "execution_count": 53,
      "outputs": [
        {
          "output_type": "stream",
          "text": [
            "0.1\n",
            "{'A': 0.1, 'B': 0.2, 'C': 0.3, 'D': 0.4}\n",
            "{'A': 0.1, 'C': 0.3, 'D': 0.4}\n",
            "dict_keys(['A', 'C', 'D'])\n",
            "dict_values([0.1, 0.3, 0.4])\n"
          ],
          "name": "stdout"
        }
      ]
    }
  ]
}